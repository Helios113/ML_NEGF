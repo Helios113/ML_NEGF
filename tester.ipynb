{
 "cells": [
  {
   "cell_type": "code",
   "execution_count": null,
   "metadata": {},
   "outputs": [],
   "source": [
    "import numpy\n",
    "import torch\n",
    "from FCNN import AE\n",
    "from data_loader import NEFG3x3Set\n",
    "import matplotlib.pyplot as plt\n",
    "ml = AE()\n",
    "\n",
    "loss_function = torch.nn.L1Loss()\n",
    "dataset = NEFG3x3Set(\"info_dat_charge_std.csv\",\n",
    "                     \"data_3x3_12\", \"dat_charge_std\", transform=True)"
   ]
  },
  {
   "cell_type": "code",
   "execution_count": null,
   "metadata": {},
   "outputs": [],
   "source": [
    "\n",
    "# 1600\n",
    "# 1500 - example of very small data\n",
    "# 1000 - very small nums\n",
    "# 3000 - bigger numbers\n",
    "(inp, tar, _,_,_)  = dataset[1500]\n",
    "inp = inp.float()\n",
    "\n",
    "rec, comp = ml(inp)\n",
    "rec = rec.reshape((-1,26)).float()\n",
    "fig, ax = plt.subplots(nrows=2, figsize=(8,12))\n",
    "pos = ax[0].imshow(rec.detach().numpy())\n",
    "c_bar = fig.colorbar(pos, ax=ax[0])\n",
    "print(rec.min(), rec.max())\n",
    "\n",
    "comp = comp.reshape((-1,10)).float()\n",
    "pos = ax[1].imshow(comp.detach().numpy())\n",
    "c_bar = fig.colorbar(pos, ax=ax[1])\n",
    "# print(tar.min(), tar.max())\n",
    "\n",
    "# inp = inp.reshape((-1,26)).float()\n",
    "# pos = ax[2].imshow(inp.detach().numpy())\n",
    "# c_bar = fig.colorbar(pos, ax=ax[2])\n",
    "# print(inp.min(), inp.max())\n",
    "\n",
    "# plt.show()\n",
    "# print(\"Prediction Loss:\", loss_function(tar, rec))\n",
    "\n",
    "# print(\"Input Loss:\", loss_function(tar, inp))\n",
    "\n",
    "\n",
    "\n"
   ]
  }
 ],
 "metadata": {
  "kernelspec": {
   "display_name": "ML_NEGF",
   "language": "python",
   "name": "python3"
  },
  "language_info": {
   "codemirror_mode": {
    "name": "ipython",
    "version": 3
   },
   "file_extension": ".py",
   "mimetype": "text/x-python",
   "name": "python",
   "nbconvert_exporter": "python",
   "pygments_lexer": "ipython3",
   "version": "3.10.9"
  },
  "orig_nbformat": 4,
  "vscode": {
   "interpreter": {
    "hash": "278755bacb11a2bb6c74d61b6eea8fba4f0209dc1c6fbb66b86178b4c9b30e56"
   }
  }
 },
 "nbformat": 4,
 "nbformat_minor": 2
}

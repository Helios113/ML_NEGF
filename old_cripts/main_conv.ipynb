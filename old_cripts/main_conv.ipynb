{
 "cells": [
  {
   "cell_type": "code",
   "execution_count": 1,
   "metadata": {},
   "outputs": [],
   "source": [
    "import torch\n",
    "import math\n",
    "# import chime\n",
    "from data_loader import NEFG3x3Set\n",
    "from LVAE import LVAE\n",
    "\n",
    "import matplotlib.pyplot as plt\n",
    "import numpy as np\n",
    "from IPython.display import clear_output\n",
    "if torch.cuda.is_available():  \n",
    "  dev = \"cuda:0\" \n",
    "else:  \n",
    "  dev = \"cpu\"  \n",
    "\n",
    "device = torch.device(dev) \n",
    "# torch.cuda.set_device(0) \n",
    "# Download the MNIST Dataset\n",
    "dataset = NEFG3x3Set(\"info_dat_charge.csv\",\n",
    "                     \"data/3x12_16_damp00\", \"dat_charge\", transform=True)\n",
    "\n",
    "length = len(dataset)\n",
    "train_split = math.floor(length*.7)\n",
    "test_split = length - train_split\n",
    "\n",
    "train_inds, test_inds = torch.utils.data.random_split(\n",
    "    dataset, [train_split, test_split], generator=torch.Generator().manual_seed(42))\n",
    "\n",
    "\n",
    "# Model Initialization\n",
    "model = LVAE(1, [8, 16, 32, 64], [8, 16, 32, 64], kernel=5,  padding=0, stride=1).to(dev)\n",
    "\n",
    "# Validation using MSE Loss function\n",
    "# loss_function = torch.nn.L1Loss()\n",
    "\n",
    "# Using an Adam Optimizer with lr = 0.\n",
    "optimizer = torch.optim.SGD(model.parameters(),\n",
    "                             lr=1e-4)\n",
    "\n",
    "train_data = torch.utils.data.DataLoader(dataset=train_inds, batch_size=32,\n",
    "                                         shuffle=True)\n",
    "test_data = torch.utils.data.DataLoader(dataset=test_inds, batch_size=32,\n",
    "                                        shuffle=True)\n"
   ]
  },
  {
   "cell_type": "code",
   "execution_count": 2,
   "metadata": {},
   "outputs": [
    {
     "name": "stdout",
     "output_type": "stream",
     "text": [
      "Epoch 40 / 50\n",
      "Average training loss: 0.028165167197585106\n",
      "-0.008194745416403748\n",
      "Average test loss: 0.029059977503493428\n",
      "Epoch 41 / 50\n",
      "Average training loss: 0.026965970173478127\n",
      "-0.007980188027431723\n",
      "Average test loss: 0.027900956280063838\n",
      "Epoch 42 / 50\n",
      "Average training loss: 0.025820719078183174\n",
      "-0.007785829242493492\n",
      "Average test loss: 0.025223441538400948\n",
      "Epoch 43 / 50\n",
      "Average training loss: 0.024722520262002945\n",
      "-0.007563950272015063\n",
      "Average test loss: 0.02463024278404191\n",
      "Epoch 44 / 50\n",
      "Average training loss: 0.023777969181537628\n",
      "-0.0074194710978190415\n",
      "Average test loss: 0.02408087532967329\n",
      "Epoch 45 / 50\n",
      "Average training loss: 0.022874407470226288\n",
      "-0.007266249995154794\n",
      "Average test loss: 0.022980901005212218\n",
      "Epoch 46 / 50\n",
      "Average training loss: 0.0219411738216877\n",
      "-0.007083311862515984\n",
      "Average test loss: 0.02197267848532647\n",
      "Epoch 47 / 50\n",
      "Average training loss: 0.021089401096105576\n",
      "-0.0069118577521294355\n",
      "Average test loss: 0.020487950707320124\n",
      "Epoch 48 / 50\n",
      "Average training loss: 0.02032976970076561\n",
      "-0.006777244689146755\n",
      "Average test loss: 0.019909395865397528\n",
      "Epoch 49 / 50\n",
      "Average training loss: 0.019602905958890915\n",
      "-0.006650143557635602\n",
      "Average test loss: 0.0191285201581195\n"
     ]
    }
   ],
   "source": [
    "epochs = 50\n",
    "outputs = []\n",
    "losses = []\n",
    "local_loss  = 0\n",
    "txt1 = \"Epoch {epoch} / \"+str(epochs)\n",
    "txt2 = \"Average training loss: {loss}\"\n",
    "txt3 = \"Average test loss: {loss}\"\n",
    "\n",
    "\n",
    "for epoch in range(epochs):\n",
    "    if epoch%10==0:\n",
    "        clear_output(wait=True)\n",
    "    print(txt1.format(epoch = epoch))\n",
    "    kl_loss = 0\n",
    "\n",
    "    for (inp,_ , tar, _,_,_) in train_data:\n",
    "        model.train()\n",
    "        inp = inp.float()\n",
    "        tar = tar.float()\n",
    "        # Output of Autoencoder\n",
    "        rec = model(tar)\n",
    "        # print(rec[1])\n",
    "\n",
    "        # plt.imshow(reconstructed[0].cpu().detach().numpy().reshape(71,-1))\n",
    "        # plt.show()\n",
    "        # Calculating the loss function\n",
    "        loss = model.loss_function(rec[0],rec[1], rec[2],M_N=3)\n",
    "        # print(loss['loss'])\n",
    "        local_loss=local_loss+loss['loss']\n",
    "        optimizer.zero_grad()\n",
    "        loss['loss'].backward()\n",
    "        optimizer.step()\n",
    "        kl_loss+=loss['KLD'].item() \n",
    "        \n",
    "    \n",
    "    print(txt2.format(loss = local_loss/len(train_data)))\n",
    "    print(kl_loss/len(test_data))\n",
    "\n",
    "    losses.append(local_loss/len(test_data))\n",
    "\n",
    "    local_loss = 0\n",
    "    for (inp, cmpr,tar, _,_,_) in test_data:\n",
    "        model.eval()\n",
    "        \n",
    "        inp = inp.float()\n",
    "        tar = tar.float()\n",
    "        \n",
    "        # Output of Autoencoder\n",
    "        rec = model(tar)\n",
    "\n",
    "        # Calculating the loss function\n",
    "        loss = model.loss_function(rec[0],rec[1], rec[2], M_N=3)\n",
    "\n",
    "\n",
    "\n",
    "        local_loss=local_loss+loss['loss'].item()\n",
    "\n",
    "    \n",
    "    print(txt3.format(loss = local_loss/len(test_data)))\n",
    "    \n",
    "    \n",
    "    local_loss = 0\n",
    "\n"
   ]
  },
  {
   "cell_type": "code",
   "execution_count": 3,
   "metadata": {},
   "outputs": [
    {
     "data": {
      "image/png": "[encoded data removed]",
      "text/plain": [
       "<Figure size 640x480 with 1 Axes>"
      ]
     },
     "metadata": {},
     "output_type": "display_data"
    }
   ],
   "source": [
    "# Defining the Plot Style\n",
    "plt.style.use('fivethirtyeight')\n",
    "plt.xlabel('Epochs')\n",
    "plt.ylabel('Loss')\n",
    " \n",
    "# Plotting the last 100 values\n",
    "a = [i.cpu().detach().numpy() for i in losses]\n",
    "\n",
    "plt.plot(a)\n",
    "plt.show()"
   ]
  },
  {
   "cell_type": "code",
   "execution_count": 4,
   "metadata": {},
   "outputs": [
    {
     "name": "stdout",
     "output_type": "stream",
     "text": [
      "6.192370868955924e-05\n",
      "0.0032165258195239674\n",
      "1.0669039261460472e-05\n"
     ]
    }
   ],
   "source": [
    "Lf = torch.nn.MSELoss()\n",
    "\n",
    "loss_og =0\n",
    "loss_cmp=0\n",
    "loss_inp=0\n",
    "test_data = torch.utils.data.DataLoader(dataset=test_inds, batch_size=1,\n",
    "                                        shuffle=True)\n",
    "model.eval()\n",
    "\n",
    "for (inp, cmpr,tar, _,_,_) in test_data:\n",
    "    \n",
    "    inp = inp.reshape(1,1,71,26).float()\n",
    "    cmpr = cmpr.reshape(1,1,71,26).float()\n",
    "    tar = tar.reshape(1, 1,71,26).float()\n",
    "    # print(inp.shape)\n",
    "    rec = model(tar)[0].float().reshape(1, 1,71, 26)\n",
    "    \n",
    "    loss_inp += Lf(tar, inp).item()\n",
    "    loss_cmp += Lf(tar, cmpr).item()\n",
    "    loss_og += Lf(tar, rec).item()\n",
    "    \n",
    "print(loss_inp/len(dataset))\n",
    "print(loss_og/len(dataset))\n",
    "print(loss_cmp/len(dataset))\n",
    "\n",
    "# 0.04133150164104515\n",
    "# 1e-5\n"
   ]
  },
  {
   "cell_type": "code",
   "execution_count": 5,
   "metadata": {},
   "outputs": [],
   "source": [
    "torch.save(model.state_dict(), \"trained_models/conv\")"
   ]
  },
  {
   "cell_type": "markdown",
   "metadata": {},
   "source": [
    "# Notes\n",
    "\n",
    "Do a full deivice\n"
   ]
  }
 ],
 "metadata": {
  "kernelspec": {
   "display_name": "Python 3.9.12 ('ml_negf.venv')",
   "language": "python",
   "name": "python3"
  },
  "language_info": {
   "codemirror_mode": {
    "name": "ipython",
    "version": 3
   },
   "file_extension": ".py",
   "mimetype": "text/x-python",
   "name": "python",
   "nbconvert_exporter": "python",
   "pygments_lexer": "ipython3",
   "version": "3.10.8"
  },
  "orig_nbformat": 4,
  "vscode": {
   "interpreter": {
    "hash": "ac4fa590126cfd0c907750eabeb448120b48d79d4b700ecf978f11f4f3eb84e8"
   }
  }
 },
 "nbformat": 4,
 "nbformat_minor": 2
}

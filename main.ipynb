{
 "cells": [
  {
   "cell_type": "code",
   "execution_count": null,
   "metadata": {},
   "outputs": [],
   "source": [
    "import torch\n",
    "from data_loader import NEFG3x3Set\n",
    "from AE import AE\n",
    "import matplotlib.pyplot as plt\n",
    "\n",
    "\n",
    "# Download the MNIST Dataset\n",
    "dataset = NEFG3x3Set(\"info.csv\", \"data_3x3_10\", \"ml_res\",transform=True)\n",
    "\n",
    "# DataLoader is used to load the dataset\n",
    "# for training\n",
    "loader = torch.utils.data.DataLoader(dataset=dataset,\n",
    "                                     batch_size=32,\n",
    "                                     shuffle=True)\n",
    "\n",
    "# Model Initialization\n",
    "model = AE()\n",
    "\n",
    "# Validation using MSE Loss function\n",
    "loss_function = torch.nn.MSELoss()\n",
    "\n",
    "# Using an Adam Optimizer with lr = 0.1\n",
    "optimizer = torch.optim.Adam(model.parameters(),\n",
    "                             lr=1e-2)\n",
    "\n",
    "\n",
    "epochs = 30\n",
    "outputs = []\n",
    "losses = []\n",
    "for epoch in range(epochs):\n",
    "    for (inp, tar, stat) in loader:\n",
    "\n",
    "        # Reshaping the image to (-1, 676)\n",
    "        inp = inp.reshape(-1, 26*26).float()\n",
    "        tar = tar.reshape(-1, 26*26).float()\n",
    "\n",
    "        # Output of Autoencoder\n",
    "        reconstructed = model(inp)\n",
    "\n",
    "        # Calculating the loss function\n",
    "        loss = loss_function(reconstructed, tar)\n",
    "        print(reconstructed.shape)\n",
    "        print(tar.shape)\n",
    "    \n",
    "\n",
    "        optimizer.zero_grad()\n",
    "        loss.backward()\n",
    "        optimizer.step()\n",
    "\n",
    "        # Storing the losses in a list for plotting\n",
    "        print(loss)\n",
    "        losses.append(loss)\n",
    "    outputs.append((epochs, tar, reconstructed))\n",
    "\n"
   ]
  },
  {
   "cell_type": "code",
   "execution_count": null,
   "metadata": {},
   "outputs": [],
   "source": [
    "def train(args, model, device, train_loader, optimizer, epoch):\n",
    "    model.train()\n",
    "    for batch_idx, (data, target) in enumerate(train_loader):\n",
    "        data, target = data.to(device), target.to(device)\n",
    "        optimizer.zero_grad()\n",
    "        output = model(data)\n",
    "        loss = F.nll_loss(output, target)\n",
    "        loss.backward()\n",
    "        optimizer.step()\n",
    "        if batch_idx % args.log_interval == 0:\n",
    "            print('Train Epoch: {} [{}/{} ({:.0f}%)]\\tLoss: {:.6f}'.format(\n",
    "                epoch, batch_idx * len(data), len(train_loader.dataset),\n",
    "                100. * batch_idx / len(train_loader), loss.item()))\n",
    "            if args.dry_run:\n",
    "                break"
   ]
  },
  {
   "cell_type": "code",
   "execution_count": null,
   "metadata": {},
   "outputs": [],
   "source": [
    "# Defining the Plot Style\n",
    "plt.style.use('fivethirtyeight')\n",
    "plt.xlabel('Iterations')\n",
    "plt.ylabel('Loss')\n",
    " \n",
    "# Plotting the last 100 values\n",
    "a = [i.detach().numpy() for i in losses]\n",
    "\n",
    "plt.plot(a)\n",
    "plt.show()"
   ]
  },
  {
   "cell_type": "code",
   "execution_count": null,
   "metadata": {},
   "outputs": [],
   "source": [
    "for i, item in enumerate(tar):\n",
    "  # Reshape the array for plotting\n",
    "  item = item.reshape(-1, 26, 26)\n",
    "  plt.imshow(item[0].detach().numpy())\n",
    "plt.show()\n",
    "for i, item in enumerate(reconstructed):\n",
    "  item = item.reshape(-1, 26, 26)\n",
    "  plt.imshow(item[0].detach().numpy())\n",
    "plt.show()\n"
   ]
  }
 ],
 "metadata": {
  "kernelspec": {
   "display_name": "ML_NEGF",
   "language": "python",
   "name": "python3"
  },
  "language_info": {
   "codemirror_mode": {
    "name": "ipython",
    "version": 3
   },
   "file_extension": ".py",
   "mimetype": "text/x-python",
   "name": "python",
   "nbconvert_exporter": "python",
   "pygments_lexer": "ipython3",
   "version": "3.10.9"
  },
  "orig_nbformat": 4,
  "vscode": {
   "interpreter": {
    "hash": "278755bacb11a2bb6c74d61b6eea8fba4f0209dc1c6fbb66b86178b4c9b30e56"
   }
  }
 },
 "nbformat": 4,
 "nbformat_minor": 2
}

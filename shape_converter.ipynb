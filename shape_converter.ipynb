{
 "cells": [
  {
   "cell_type": "code",
   "execution_count": 2,
   "metadata": {},
   "outputs": [],
   "source": [
    "import torch\n",
    "import math\n",
    "from data_loader import NEFG3x3Set\n",
    "from AE import AE\n",
    "import matplotlib.pyplot as plt\n",
    "import numpy as np\n",
    "\n",
    "# Download the MNIST Dataset\n",
    "dataset = NEFG3x3Set(\"info_dat_pot_std.csv\",\n",
    "                     \"data/3x12_16\", \"dat_pot_std\", transform=True)\n"
   ]
  },
  {
   "cell_type": "code",
   "execution_count": 3,
   "metadata": {},
   "outputs": [],
   "source": [
    "\n",
    "tar_dat = np.array([])\n",
    "for (inp, tar, _, _, _ ) in dataset:\n",
    "    tar_dat = np.concatenate((tar_dat,tar.flatten()))\n",
    "\n"
   ]
  },
  {
   "cell_type": "code",
   "execution_count": 21,
   "metadata": {},
   "outputs": [
    {
     "data": {
      "image/png": "[encoded data removed]",
      "text/plain": [
       "<Figure size 400x400 with 1 Axes>"
      ]
     },
     "metadata": {},
     "output_type": "display_data"
    }
   ],
   "source": [
    "# rec = model(inp).float().reshape(26,26)\n",
    "\n",
    "fig, ax = plt.subplots(nrows=1, figsize=(4,4))\n",
    "\n",
    "ax.hist(tar_dat)\n",
    "ax.hist(np.power(10, tar_dat))\n",
    "\n",
    "plt.show()\n",
    "\n",
    "# tar = tar.reshape(-1,26).float()\n",
    "# print(tar.shape)\n",
    "# pos = ax[0].imshow(tar.detach().numpy())\n",
    "# c_bar = fig.colorbar(pos, ax=ax[0])\n",
    "\n",
    "# inp = inp.reshape(-1,26).float()\n",
    "# pos = ax[1].imshow(inp.detach().numpy())\n",
    "# c_bar = fig.colorbar(pos, ax=ax[1])\n",
    "# plt.show()"
   ]
  }
 ],
 "metadata": {
  "kernelspec": {
   "display_name": "ML_NEGF",
   "language": "python",
   "name": "python3"
  },
  "language_info": {
   "codemirror_mode": {
    "name": "ipython",
    "version": 3
   },
   "file_extension": ".py",
   "mimetype": "text/x-python",
   "name": "python",
   "nbconvert_exporter": "python",
   "pygments_lexer": "ipython3",
   "version": "3.10.9"
  },
  "orig_nbformat": 4,
  "vscode": {
   "interpreter": {
    "hash": "278755bacb11a2bb6c74d61b6eea8fba4f0209dc1c6fbb66b86178b4c9b30e56"
   }
  }
 },
 "nbformat": 4,
 "nbformat_minor": 2
}
